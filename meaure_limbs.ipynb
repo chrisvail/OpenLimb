{
 "cells": [
  {
   "cell_type": "markdown",
   "id": "472320e0",
   "metadata": {},
   "source": [
    "# Measure Limbs\n",
    "\n",
    "The aim of this notebook is to automatically take the same measurements as in the 1D dataset on the limbs created using the SSM. What this is going to lead to is the creation of a ML pipeline which will take in measurements and output the components of the SSM that get closest to that particular set of measurements (Also lets include an output for scale). Inshallah.\n",
    "\n",
    "I think the approach I'm going to take for the circumference measurements is fairly simple - define a plane based on a vertical normal and a selected vertex. For every vert figure out which side of the plane its on. Find edges which cut the plane (And vertices on the plane). Find the intersection points between the edge and the plane. Join points based on face adjaceny - et voila. A curve on the plane. Then its just a matter of adding up all the line segments in a loop and bobs your uncle you have the circumfrential measurement. Maybe there is a nicer way to do it with a half edge mesh but I really haven't played about with that too much. \n",
    "\n",
    "As for the lengths: Just pick to verts and off you go. Nothing complicated about that at all."
   ]
  },
  {
   "cell_type": "code",
   "execution_count": 131,
   "id": "ac5bece0",
   "metadata": {},
   "outputs": [],
   "source": [
    "import igl\n",
    "import numpy as np\n",
    "from matplotlib import pyplot as plt\n",
    "from collections import defaultdict\n",
    "\n",
    "verts, face2vert = igl.read_triangle_mesh(\"stls/limb_00000.stl\")\n",
    "\n",
    "# Remove duplicate vertices and update face2vert accordingly\n",
    "# STL files often have duplicated vertices, so we need to merge them\n",
    "\n",
    "# Use numpy structured array for unique operation\n",
    "verts_rounded = np.round(verts, decimals=8)\n",
    "_, unique_indices, inverse_indices = np.unique(verts_rounded, axis=0, return_index=True, return_inverse=True)\n",
    "\n",
    "verts_unique = verts[unique_indices]\n",
    "face2vert_unique = inverse_indices[face2vert]\n",
    "\n",
    "verts = verts_unique\n",
    "face2vert = face2vert_unique\n",
    "\n",
    "edge2vert, face2edge, edge2face = igl.edge_topology(verts, face2vert)"
   ]
  },
  {
   "cell_type": "markdown",
   "id": "05c01b50",
   "metadata": {},
   "source": [
    "## Slicing out a curve with a plane\n",
    "So we're going to try get out a 2d curve out of this mesh. So one of the things I currently cant remember how to do is find where this edge intersects a plane but lets work it out because thats fun. \n",
    "\n",
    "We start with a point on the edge which can be described as\n",
    "\n",
    "$$p_t = tv_1 + (1 - t)v_2$$\n",
    "\n",
    "We then want to find when the vector from this to the plane point is orthogonal so: \n",
    "\n",
    "$$(p_t - p_p) \\cdot n_p = 0$$\n",
    "\n",
    "Which when you look at it you realise is really fucking easy because in the case of a vertical normal vector you end up with making the z value zero obviously. But if the plane wasnt horizontal then you'd just have to solve that equation and everyone will be happy. Great. So in the case of horizontal planes I should be solving: \n",
    "\n",
    "$$v_{2z} + (v_{1z} - v_{2z})t = 0$$\n",
    "\n",
    "$$\\frac{v_{2z}}{v_{2z} - v_{1z}} = t$$"
   ]
  },
  {
   "cell_type": "code",
   "execution_count": 132,
   "id": "8db78185",
   "metadata": {},
   "outputs": [],
   "source": [
    "plane_normal = np.array([0, 0, 1])\n",
    "plane_point = np.array([0, 0, 0])\n",
    "\n",
    "plane_side = np.dot(verts - plane_point, plane_normal)\n",
    "# If a vert sits exactly on the plane then make it\n",
    "plane_side[plane_side == 0] = 1e-8\n",
    "plane_side =  plane_side < 0\n",
    "\n",
    "\n",
    "edge_verts_side = plane_side[edge2vert]\n",
    "edges_cross_plane = np.where(edge_verts_side[:, 0] != edge_verts_side[:, 1])[0]\n",
    "\n",
    "edge_cut_verts = verts[edge2vert[edges_cross_plane]]\n",
    "\n",
    "v1 = edge_cut_verts[:, 0]\n",
    "v2 = edge_cut_verts[:, 1]\n",
    "d1 = np.dot(v1 - plane_point, plane_normal)\n",
    "d2 = np.dot(v2 - plane_point, plane_normal)\n",
    "t = d1 / (d1 - d2)\n",
    "intersection_points = v1 + (v2 - v1) * t[:, np.newaxis]\n",
    "\n",
    "intersection_points.shape\n",
    "\n",
    "with open(\"test_cuts.obj\", \"w\") as f:\n",
    "    for v1,v2,v3 in intersection_points:\n",
    "        f.write(f\"v {v1} {v2} {v3}\\n\")"
   ]
  },
  {
   "cell_type": "code",
   "execution_count": 133,
   "id": "1c17dfb7",
   "metadata": {},
   "outputs": [],
   "source": [
    "edge_set = set(edges_cross_plane)\n",
    "\n",
    "# For each edge crossing the plane, get the two faces it belongs to (ignore -1, which means no face)\n",
    "faces_per_edge = edge2face[edges_cross_plane]  # shape (n_cross, 2)\n",
    "\n",
    "# Flatten and filter out -1 to get all face indices involved in the cut\n",
    "faces_in_cut = np.unique(faces_per_edge[faces_per_edge != -1])\n",
    "\n",
    "# For each face in the cut, get its three edges\n",
    "cut_face_edges = face2edge[faces_in_cut]  # shape (n_faces, 3)\n",
    "\n",
    "# Only keep edges that are in edge_set (i.e., cross the plane)\n",
    "cut_face_edges_mask = np.isin(cut_face_edges, list(edge_set))\n",
    "cut_face_edges = np.where(cut_face_edges_mask, cut_face_edges, -1)\n",
    "\n",
    "# For each face, the two edges with edge_set membership are the ones that cross the plane\n",
    "# Find the indices of those edges for each face\n",
    "connections = []\n",
    "for face_edges in cut_face_edges:\n",
    "    cut_edges = face_edges[face_edges != -1]\n",
    "    if len(cut_edges) == 2:\n",
    "        # Map edge index back to intersection_points index\n",
    "        idx1 = np.where(edges_cross_plane == cut_edges[0])[0][0]\n",
    "        idx2 = np.where(edges_cross_plane == cut_edges[1])[0][0]\n",
    "        connections.append((idx1, idx2))\n",
    "connections = np.array(connections)"
   ]
  },
  {
   "cell_type": "code",
   "execution_count": 134,
   "id": "ecdeef99",
   "metadata": {},
   "outputs": [
    {
     "data": {
      "text/plain": [
       "4"
      ]
     },
     "execution_count": 134,
     "metadata": {},
     "output_type": "execute_result"
    }
   ],
   "source": [
    "def find_polyline(connections_dict, start):\n",
    "    seen = {start}\n",
    "\n",
    "    to_do = [*connections_dict[start]]\n",
    "    path = [start]\n",
    "\n",
    "    while to_do:\n",
    "        curr = to_do.pop()\n",
    "        path.append(curr)\n",
    "        left, right = connections_dict[curr]\n",
    "\n",
    "        if left not in seen:\n",
    "            seen.add(left)\n",
    "            to_do.append(left)\n",
    "\n",
    "        if right not in seen:\n",
    "            seen.add(right)\n",
    "            to_do.append(right)\n",
    "\n",
    "    return path\n",
    "\n",
    "connections_dict = defaultdict(list)\n",
    "for i, j in connections:\n",
    "    i, j = int(i), int(j)\n",
    "    connections_dict[i].append(j)\n",
    "    connections_dict[j].append(i)\n",
    "\n",
    "seen = set()\n",
    "unseen = set(connections_dict.keys())\n",
    "\n",
    "paths = []\n",
    "\n",
    "while unseen:\n",
    "    start = unseen.pop()\n",
    "    paths.append(find_polyline(connections_dict, start))\n",
    "    seen.union(set(paths[-1]))\n",
    "    unseen -= set(paths[-1])\n",
    "\n",
    "len(paths) "
   ]
  },
  {
   "cell_type": "code",
   "execution_count": 135,
   "id": "2198a732",
   "metadata": {},
   "outputs": [],
   "source": [
    "with open(\"test_cuts.obj\", \"w\") as f:\n",
    "    for v1, v2, v3 in intersection_points:\n",
    "        f.write(f\"v {v1} {v2} {v3}\\n\")\n",
    "\n",
    "    for f1, f2 in connections:\n",
    "        f.write(f\"f {f1 + 1} {f2 + 1}\\n\")\n",
    "    # Add edges between connected faces (as lines)\n",
    "    # Add polylines from paths as lines in the obj file\n",
    "    for p in paths:\n",
    "        for i, vert in enumerate(p):\n",
    "            f.write(f\"l {p[i - 1] + 1} {vert + 1}\\n\")"
   ]
  },
  {
   "cell_type": "code",
   "execution_count": 136,
   "id": "b4719c01",
   "metadata": {},
   "outputs": [
    {
     "name": "stdout",
     "output_type": "stream",
     "text": [
      "1.010938756981384\n",
      "0.23179425401683143\n",
      "0.03266131682527961\n",
      "0.16488472838747556\n"
     ]
    }
   ],
   "source": [
    "def calculate_polyline_length(path, verts):\n",
    "    path = np.array(path)\n",
    "\n",
    "    return np.sum(np.linalg.norm(verts[path] - verts[np.roll(path, 1)], axis=1))\n",
    "\n",
    "for line in paths:\n",
    "    print(calculate_polyline_length(line, intersection_points))"
   ]
  },
  {
   "cell_type": "markdown",
   "id": "74458f54",
   "metadata": {},
   "source": [
    "# Trying a different approach"
   ]
  },
  {
   "cell_type": "code",
   "execution_count": 137,
   "id": "daae6a50",
   "metadata": {},
   "outputs": [],
   "source": [
    "import torch\n",
    "\n",
    "verts = torch.tensor(verts_unique)\n",
    "face2vert = torch.tensor(face2vert_unique)\n",
    "\n",
    "edge2vert, face2edge, edge2face = torch.tensor(edge2vert), torch.tensor(face2edge), torch.tensor(edge2face)\n"
   ]
  },
  {
   "cell_type": "code",
   "execution_count": 138,
   "id": "a4e23e8d",
   "metadata": {},
   "outputs": [],
   "source": [
    "plane_normal = torch.tensor([[0, 0, 1]], dtype=verts.dtype)\n",
    "plane_point = torch.tensor([[0, 0, 0]], dtype=verts.dtype)\n",
    "\n",
    "plane_side = torch.einsum(\"ij, ij -> i\", verts - plane_point, plane_normal)\n",
    "\n",
    "# If a vert sits exactly on the plane then make it\n",
    "plane_side[plane_side == 0] = 1e-8\n",
    "plane_side =  plane_side < 0\n",
    "\n"
   ]
  },
  {
   "cell_type": "code",
   "execution_count": 139,
   "id": "05d7bee4",
   "metadata": {},
   "outputs": [
    {
     "data": {
      "text/plain": [
       "(tensor([-0.1473, -0.3133,  0.0000]), tensor(0.4005))"
      ]
     },
     "execution_count": 139,
     "metadata": {},
     "output_type": "execute_result"
    }
   ],
   "source": [
    "a, b = (torch.rand((2, 3), dtype=torch.float32) - 0.5) * 2\n",
    "n = torch.tensor((0, 0, 1), dtype=torch.float32)\n",
    "p = torch.tensor((0, 0, 0), dtype=torch.float32)\n",
    "\n",
    "\n",
    "def plane_edge_intersection(a, b, n, p):\n",
    "    if len(a.shape) == 2:\n",
    "        t = torch.einsum(\"ij, ij -> i\", p - a, n) / torch.einsum(\"ij, ij -> i\", b - a, n)\n",
    "        t = t.unsqueeze(-1)\n",
    "    else:\n",
    "        t = torch.dot(p - a, n) / torch.dot(b - a, n)\n",
    "    return a + t * (b - a), t\n",
    "\n",
    "\n",
    "plane_edge_intersection(a, b, n, p)"
   ]
  },
  {
   "cell_type": "code",
   "execution_count": null,
   "id": "053b1f28",
   "metadata": {},
   "outputs": [
    {
     "data": {
      "text/plain": [
       "tensor(True)"
      ]
     },
     "execution_count": 141,
     "metadata": {},
     "output_type": "execute_result"
    }
   ],
   "source": [
    "edge_verts = verts[edge2vert]\n",
    "intersections, t = plane_edge_intersection(edge_verts[:,0], edge_verts[:, 1], plane_normal, plane_point)\n",
    "t_mask = torch.logical_and(0 <= t, t < 1)\n",
    "\n",
    "torch.all(torch.isclose(intersections[:, -1], torch.zeros_like(intersections[:, -1])))"
   ]
  },
  {
   "cell_type": "code",
   "execution_count": 142,
   "id": "18c8db4a",
   "metadata": {},
   "outputs": [
    {
     "data": {
      "text/plain": [
       "(torch.Size([50334, 3]), torch.Size([50334, 2]))"
      ]
     },
     "execution_count": 142,
     "metadata": {},
     "output_type": "execute_result"
    }
   ],
   "source": [
    "intersections.shape, edge2vert.shape"
   ]
  }
 ],
 "metadata": {
  "kernelspec": {
   "display_name": "OpenLimb",
   "language": "python",
   "name": "python3"
  },
  "language_info": {
   "codemirror_mode": {
    "name": "ipython",
    "version": 3
   },
   "file_extension": ".py",
   "mimetype": "text/x-python",
   "name": "python",
   "nbconvert_exporter": "python",
   "pygments_lexer": "ipython3",
   "version": "3.12.9"
  }
 },
 "nbformat": 4,
 "nbformat_minor": 5
}
