{
 "cells": [
  {
   "cell_type": "markdown",
   "id": "472320e0",
   "metadata": {},
   "source": [
    "# Measure Limbs\n",
    "\n",
    "The aim of this notebook is to automatically take the same measurements as in the 1D dataset on the limbs created using the SSM. What this is going to lead to is the creation of a ML pipeline which will take in measurements and output the components of the SSM that get closest to that particular set of measurements (Also lets include an output for scale). Inshallah.\n",
    "\n",
    "I think the approach I'm going to take for the circumference measurements is fairly simple - define a plane based on a vertical normal and a selected vertex. For every vert figure out which side of the plane its on. Find edges which cut the plane (And vertices on the plane). Find the intersection points between the edge and the plane. Join points based on face adjaceny - et voila. A curve on the plane. Then its just a matter of adding up all the line segments in a loop and bobs your uncle you have the circumfrential measurement. Maybe there is a nicer way to do it with a half edge mesh but I really haven't played about with that too much. \n",
    "\n",
    "As for the lengths: Just pick to verts and off you go. Nothing complicated about that at all."
   ]
  },
  {
   "cell_type": "code",
   "execution_count": 24,
   "id": "ac5bece0",
   "metadata": {},
   "outputs": [],
   "source": [
    "import igl\n",
    "import numpy as np\n",
    "from matplotlib import pyplot as plt\n",
    "\n",
    "verts, face2vert = igl.read_triangle_mesh(\"stls/limb_00000.stl\")\n",
    "edge2vert, face2edge, edge2face = igl.edge_topology(verts, face2vert)"
   ]
  },
  {
   "cell_type": "markdown",
   "id": "05c01b50",
   "metadata": {},
   "source": [
    "## Slicing out a curve with a plane\n",
    "So we're going to try get out a 2d curve out of this mesh. So one of the things I currently cant remember how to do is find where this edge intersects a plane but lets work it out because thats fun. \n",
    "\n",
    "We start with a point on the edge which can be described as\n",
    "\n",
    "$$p_t = tv_1 + (1 - t)v_2$$\n",
    "\n",
    "We then want to find when the vector from this to the plane point is orthogonal so: \n",
    "\n",
    "$$(p_t - p_p) \\cdot n_p = 0$$\n",
    "\n",
    "Which when you look at it you realise is really fucking easy because in the case of a vertical normal vector you end up with making the z value zero obviously. But if the plane wasnt horizontal then you'd just have to solve that equation and everyone will be happy. Great. So in the case of horizontal planes I should be solving: \n",
    "\n",
    "$$v_{2z} + (v_{1z} - v_{2z})t = 0$$\n",
    "\n",
    "$$\\frac{v_{2z}}{v_{2z} - v_{1z}} = t$$"
   ]
  },
  {
   "cell_type": "code",
   "execution_count": null,
   "id": "8db78185",
   "metadata": {},
   "outputs": [
    {
     "data": {
      "text/plain": [
       "(784, 3)"
      ]
     },
     "execution_count": 25,
     "metadata": {},
     "output_type": "execute_result"
    }
   ],
   "source": [
    "plane_normal = np.array([0, 0, 1])\n",
    "plane_point = np.array([0, 0, 0])\n",
    "\n",
    "plane_side = np.dot(verts - plane_point, plane_normal) < 0\n",
    "# If a vert sits exactly on the plane then make it not and itll sort itself out later\n",
    "plane_side[plane_side == 0] = 1e-8\n",
    "\n",
    "edge_verts_side = plane_side[edge2vert]\n",
    "edges_cross_plane = np.where(edge_verts_side[:, 0] != edge_verts_side[:, 1])[0]\n",
    "\n",
    "edge_cut_verts = verts[edge2vert[edges_cross_plane]]\n",
    "\n",
    "v1 = edge_cut_verts[:, 0]\n",
    "v2 = edge_cut_verts[:, 1]\n",
    "d1 = np.dot(v1 - plane_point, plane_normal)\n",
    "d2 = np.dot(v2 - plane_point, plane_normal)\n",
    "t = d1 / (d1 - d2)\n",
    "intersection_points = v1 + (v2 - v1) * t[:, np.newaxis]\n",
    "\n",
    "intersection_points.shape"
   ]
  },
  {
   "cell_type": "code",
   "execution_count": 42,
   "id": "1c17dfb7",
   "metadata": {},
   "outputs": [
    {
     "data": {
      "text/plain": [
       "(3920,)"
      ]
     },
     "execution_count": 42,
     "metadata": {},
     "output_type": "execute_result"
    }
   ],
   "source": [
    "edge_set = set(edges_cross_plane)\n",
    "\n",
    "np.isin(face2edge[edge2face[edges_cross_plane]], tuple(edge_set))\n",
    "\n",
    "\n",
    "var = face2edge[edge2face[edges_cross_plane]]\n",
    "var[var != edges_cross_plane[:, None, None]].shape"
   ]
  },
  {
   "cell_type": "code",
   "execution_count": null,
   "id": "2198a732",
   "metadata": {},
   "outputs": [],
   "source": [
    "with open(\"test_cuts.obj\", \"w\") as f:\n",
    "    for v1, v2, v3 in intersection_points:\n",
    "        f.write(f\"v {v1} {v2} {v3}\\n\")"
   ]
  }
 ],
 "metadata": {
  "kernelspec": {
   "display_name": ".venv",
   "language": "python",
   "name": "python3"
  },
  "language_info": {
   "codemirror_mode": {
    "name": "ipython",
    "version": 3
   },
   "file_extension": ".py",
   "mimetype": "text/x-python",
   "name": "python",
   "nbconvert_exporter": "python",
   "pygments_lexer": "ipython3",
   "version": "3.12.9"
  }
 },
 "nbformat": 4,
 "nbformat_minor": 5
}
