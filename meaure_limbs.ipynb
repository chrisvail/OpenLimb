{
 "cells": [
  {
   "cell_type": "markdown",
   "id": "472320e0",
   "metadata": {},
   "source": [
    "# Measure Limbs\n",
    "\n",
    "The aim of this notebook is to automatically take the same measurements as in the 1D dataset on the limbs created using the SSM. What this is going to lead to is the creation of a ML pipeline which will take in measurements and output the components of the SSM that get closest to that particular set of measurements (Also lets include an output for scale). Inshallah.\n",
    "\n",
    "I think the approach I'm going to take for the circumference measurements is fairly simple - define a plane based on a vertical normal and a selected vertex. For every vert figure out which side of the plane its on. Find edges which cut the plane (And vertices on the plane). Find the intersection points between the edge and the plane. Join points based on face adjaceny - et voila. A curve on the plane. Then its just a matter of adding up all the line segments in a loop and bobs your uncle you have the circumfrential measurement. Maybe there is a nicer way to do it with a half edge mesh but I really haven't played about with that too much. \n",
    "\n",
    "As for the lengths: Just pick to verts and off you go. Nothing complicated about that at all."
   ]
  },
  {
   "cell_type": "code",
   "execution_count": 1,
   "id": "ac5bece0",
   "metadata": {},
   "outputs": [],
   "source": [
    "import igl\n",
    "import numpy\n",
    "\n",
    "verts, face2vert = igl.read_triangle_mesh(\"stls/limb_00000.stl\")"
   ]
  }
 ],
 "metadata": {
  "kernelspec": {
   "display_name": ".venv",
   "language": "python",
   "name": "python3"
  },
  "language_info": {
   "codemirror_mode": {
    "name": "ipython",
    "version": 3
   },
   "file_extension": ".py",
   "mimetype": "text/x-python",
   "name": "python",
   "nbconvert_exporter": "python",
   "pygments_lexer": "ipython3",
   "version": "3.12.9"
  }
 },
 "nbformat": 4,
 "nbformat_minor": 5
}
