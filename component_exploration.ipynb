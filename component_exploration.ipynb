{
 "cells": [
  {
   "cell_type": "code",
   "execution_count": 23,
   "id": "ba14b04b",
   "metadata": {},
   "outputs": [],
   "source": [
    "import numpy as np\n",
    "import torch\n",
    "import os\n",
    "import subprocess\n",
    "from pathlib import Path"
   ]
  },
  {
   "cell_type": "code",
   "execution_count": 26,
   "id": "547d1a2a",
   "metadata": {},
   "outputs": [
    {
     "name": "stdout",
     "output_type": "stream",
     "text": [
      "Summary statistics for unscaled:\n",
      "Component 0: mean=6.1444, std=14.2853, min=-19.9567, max=33.8261\n",
      "Component 1: mean=2.6163, std=4.9341, min=-6.3180, max=12.6947\n",
      "Component 2: mean=0.5011, std=3.1790, min=-6.7520, max=8.9552\n",
      "Component 3: mean=0.5367, std=2.7262, min=-5.9810, max=7.9328\n",
      "Component 4: mean=0.9793, std=2.4555, min=-4.8135, max=6.8879\n",
      "Component 5: mean=-0.2139, std=1.7827, min=-4.7284, max=4.3558\n",
      "Component 6: mean=0.2772, std=1.7266, min=-3.5803, max=4.5307\n",
      "Component 7: mean=-0.0566, std=1.2382, min=-2.9769, max=2.7980\n",
      "Component 8: mean=0.0421, std=0.8715, min=-2.2610, max=2.1669\n",
      "Component 9: mean=0.2130, std=1.0338, min=-2.0038, max=2.5253\n",
      "Component 10: mean=1.0000, std=0.0000, min=1.0000, max=1.0000\n",
      "\n",
      "Summary statistics for scaled:\n",
      "Component 0: mean=6.1444, std=14.2853, min=-19.9567, max=33.8261\n",
      "Component 1: mean=2.6163, std=4.9341, min=-6.3180, max=12.6947\n",
      "Component 2: mean=0.5011, std=3.1790, min=-6.7520, max=8.9552\n",
      "Component 3: mean=0.5367, std=2.7262, min=-5.9810, max=7.9328\n",
      "Component 4: mean=0.9793, std=2.4555, min=-4.8135, max=6.8879\n",
      "Component 5: mean=-0.2139, std=1.7827, min=-4.7284, max=4.3558\n",
      "Component 6: mean=0.2772, std=1.7266, min=-3.5803, max=4.5307\n",
      "Component 7: mean=-0.0566, std=1.2382, min=-2.9769, max=2.7980\n",
      "Component 8: mean=0.0421, std=0.8715, min=-2.2610, max=2.1669\n",
      "Component 9: mean=0.2130, std=1.0338, min=-2.0038, max=2.5253\n",
      "Component 10: mean=392.8120, std=27.7041, min=343.0077, max=439.7683\n",
      "\n"
     ]
    }
   ],
   "source": [
    "def generate_data(batch_size, path=\"./stls\", start=0, scale=1):\n",
    "    cmd = [\n",
    "            \"./scripts/generate_limbs.sh\",\n",
    "            \"--num_limbs\",\n",
    "            f\"{batch_size}\",\n",
    "            \"--path\",\n",
    "            str(path),\n",
    "            \"--start\",\n",
    "            f\"{start}\",\n",
    "            \"--save_mesh\",\n",
    "            \"0\",\n",
    "            \"--scale\",\n",
    "            f\"{scale}\"\n",
    "        ]\n",
    "\n",
    "    if os.name == \"nt\":  # Windows\n",
    "        cmd = [\"wsl\", \"-e\"] + cmd\n",
    "\n",
    "    subprocess.run(cmd, check=False, stderr=subprocess.PIPE, stdout=subprocess.PIPE)\n",
    "\n",
    "    while True:\n",
    "        try:\n",
    "            components = np.load(f\"{path}/components_{start:08d}.npy\")\n",
    "        except FileNotFoundError:\n",
    "            continue\n",
    "        else:\n",
    "            return torch.tensor(components)\n",
    "\n",
    "\n",
    "unscaled = generate_data(1024, start=0, scale=0)\n",
    "scaled = generate_data(1024, start=1024, scale=1)\n",
    "\n",
    "scaled.shape, unscaled.shape\n",
    "# Calculate summary statistics for each component in unscaled and scaled tensors\n",
    "def summarize_tensor(tensor, name):\n",
    "    stats = {\n",
    "        'mean': tensor.mean(dim=0),\n",
    "        'std': tensor.std(dim=0),\n",
    "        'min': tensor.min(dim=0).values,\n",
    "        'max': tensor.max(dim=0).values,\n",
    "    }\n",
    "    print(f\"Summary statistics for {name}:\")\n",
    "    for i in range(tensor.shape[1]):\n",
    "        print(f\"Component {i}: mean={stats['mean'][i]:.4f}, std={stats['std'][i]:.4f}, min={stats['min'][i]:.4f}, max={stats['max'][i]:.4f}\")\n",
    "    print()\n",
    "\n",
    "summarize_tensor(unscaled, \"unscaled\")\n",
    "summarize_tensor(scaled, \"scaled\")"
   ]
  },
  {
   "cell_type": "code",
   "execution_count": 31,
   "id": "d6d91c2d",
   "metadata": {},
   "outputs": [
    {
     "data": {
      "text/plain": [
       "torch.Size([2, 11])"
      ]
     },
     "execution_count": 31,
     "metadata": {},
     "output_type": "execute_result"
    }
   ],
   "source": [
    "scaled_component_transforms = torch.vstack([torch.mean(scaled, dim=0, keepdim=True), torch.std(scaled, dim=0, keepdim=True)])\n",
    "unscaled_component_transforms = torch.vstack([torch.mean(unscaled, dim=0, keepdim=True), torch.std(unscaled, dim=0, keepdim=True)])\n",
    "\n",
    "torch.save(scaled_component_transforms, \"./data_components/scaled_component_transforms.pt\")\n",
    "torch.save(unscaled_component_transforms, \"./data_components/unscaled_component_transforms.pt\")\n",
    "\n",
    "scaled_component_transforms.shape"
   ]
  }
 ],
 "metadata": {
  "kernelspec": {
   "display_name": "OpenLimb",
   "language": "python",
   "name": "python3"
  },
  "language_info": {
   "codemirror_mode": {
    "name": "ipython",
    "version": 3
   },
   "file_extension": ".py",
   "mimetype": "text/x-python",
   "name": "python",
   "nbconvert_exporter": "python",
   "pygments_lexer": "ipython3",
   "version": "3.12.9"
  }
 },
 "nbformat": 4,
 "nbformat_minor": 5
}
