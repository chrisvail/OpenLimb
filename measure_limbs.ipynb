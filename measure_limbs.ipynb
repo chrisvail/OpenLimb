{
 "cells": [
  {
   "cell_type": "markdown",
   "id": "472320e0",
   "metadata": {},
   "source": [
    "# Measure Limbs\n",
    "\n",
    "The aim of this notebook is to automatically take the same measurements as in the 1D dataset on the limbs created using the SSM. What this is going to lead to is the creation of a ML pipeline which will take in measurements and output the components of the SSM that get closest to that particular set of measurements (Also lets include an output for scale). Inshallah.\n",
    "\n",
    "I think the approach I'm going to take for the circumference measurements is fairly simple - define a plane based on a vertical normal and a selected vertex. For every vert figure out which side of the plane its on. Find edges which cut the plane (And vertices on the plane). Find the intersection points between the edge and the plane. Join points based on face adjaceny - et voila. A curve on the plane. Then its just a matter of adding up all the line segments in a loop and bobs your uncle you have the circumfrential measurement. Maybe there is a nicer way to do it with a half edge mesh but I really haven't played about with that too much. \n",
    "\n",
    "As for the lengths: Just pick to verts and off you go. Nothing complicated about that at all."
   ]
  },
  {
   "cell_type": "code",
   "execution_count": 19,
   "id": "ac5bece0",
   "metadata": {},
   "outputs": [],
   "source": [
    "import igl\n",
    "import numpy as np\n",
    "from matplotlib import pyplot as plt\n",
    "from collections import defaultdict\n",
    "\n",
    "verts, face2vert = igl.read_triangle_mesh(\"limb_00000.stl\")\n",
    "\n",
    "# Remove duplicate vertices and update face2vert accordingly\n",
    "# STL files often have duplicated vertices, so we need to merge them\n",
    "\n",
    "# Use numpy structured array for unique operation\n",
    "verts_rounded = np.round(verts, decimals=8)\n",
    "_, unique_indices, inverse_indices = np.unique(verts_rounded, axis=0, return_index=True, return_inverse=True)\n",
    "\n",
    "verts_unique = verts[unique_indices]\n",
    "face2vert_unique = inverse_indices[face2vert]\n",
    "\n",
    "verts = verts_unique\n",
    "face2vert = face2vert_unique\n",
    "\n",
    "edge2vert, face2edge, edge2face = igl.edge_topology(verts, face2vert)"
   ]
  },
  {
   "cell_type": "markdown",
   "id": "05c01b50",
   "metadata": {},
   "source": [
    "## Slicing out a curve with a plane\n",
    "So we're going to try get out a 2d curve out of this mesh. So one of the things I currently cant remember how to do is find where this edge intersects a plane but lets work it out because thats fun. \n",
    "\n",
    "We start with a point on the edge which can be described as\n",
    "\n",
    "$$p_t = tv_1 + (1 - t)v_2$$\n",
    "\n",
    "We then want to find when the vector from this to the plane point is orthogonal so: \n",
    "\n",
    "$$(p_t - p_p) \\cdot n_p = 0$$\n",
    "\n",
    "Which when you look at it you realise is really fucking easy because in the case of a vertical normal vector you end up with making the z value zero obviously. But if the plane wasnt horizontal then you'd just have to solve that equation and everyone will be happy. Great. So in the case of horizontal planes I should be solving: \n",
    "\n",
    "$$v_{2z} + (v_{1z} - v_{2z})t = 0$$\n",
    "\n",
    "$$\\frac{v_{2z}}{v_{2z} - v_{1z}} = t$$"
   ]
  },
  {
   "cell_type": "code",
   "execution_count": 20,
   "id": "8db78185",
   "metadata": {},
   "outputs": [],
   "source": [
    "plane_normal = np.array([0, 0, 1])\n",
    "plane_point = np.array([0, 0, 0])\n",
    "\n",
    "plane_side = np.dot(verts - plane_point, plane_normal)\n",
    "# If a vert sits exactly on the plane then make it\n",
    "plane_side[plane_side == 0] = 1e-8\n",
    "plane_side =  plane_side < 0\n",
    "\n",
    "\n",
    "edge_verts_side = plane_side[edge2vert]\n",
    "edges_cross_plane = np.where(edge_verts_side[:, 0] != edge_verts_side[:, 1])[0]\n",
    "\n",
    "edge_cut_verts = verts[edge2vert[edges_cross_plane]]\n",
    "\n",
    "v1 = edge_cut_verts[:, 0]\n",
    "v2 = edge_cut_verts[:, 1]\n",
    "d1 = np.dot(v1 - plane_point, plane_normal)\n",
    "d2 = np.dot(v2 - plane_point, plane_normal)\n",
    "t = d1 / (d1 - d2)\n",
    "intersection_points = v1 + (v2 - v1) * t[:, np.newaxis]\n",
    "\n",
    "intersection_points.shape\n",
    "\n",
    "with open(\"test_cuts.obj\", \"w\") as f:\n",
    "    for v1,v2,v3 in intersection_points:\n",
    "        f.write(f\"v {v1} {v2} {v3}\\n\")"
   ]
  },
  {
   "cell_type": "code",
   "execution_count": 21,
   "id": "1c17dfb7",
   "metadata": {},
   "outputs": [],
   "source": [
    "edge_set = set(edges_cross_plane)\n",
    "\n",
    "# For each edge crossing the plane, get the two faces it belongs to (ignore -1, which means no face)\n",
    "faces_per_edge = edge2face[edges_cross_plane]  # shape (n_cross, 2)\n",
    "\n",
    "# Flatten and filter out -1 to get all face indices involved in the cut\n",
    "faces_in_cut = np.unique(faces_per_edge[faces_per_edge != -1])\n",
    "\n",
    "# For each face in the cut, get its three edges\n",
    "cut_face_edges = face2edge[faces_in_cut]  # shape (n_faces, 3)\n",
    "\n",
    "# Only keep edges that are in edge_set (i.e., cross the plane)\n",
    "cut_face_edges_mask = np.isin(cut_face_edges, list(edge_set))\n",
    "cut_face_edges = np.where(cut_face_edges_mask, cut_face_edges, -1)\n",
    "\n",
    "# For each face, the two edges with edge_set membership are the ones that cross the plane\n",
    "# Find the indices of those edges for each face\n",
    "connections = []\n",
    "for face_edges in cut_face_edges:\n",
    "    cut_edges = face_edges[face_edges != -1]\n",
    "    if len(cut_edges) == 2:\n",
    "        # Map edge index back to intersection_points index\n",
    "        idx1 = np.where(edges_cross_plane == cut_edges[0])[0][0]\n",
    "        idx2 = np.where(edges_cross_plane == cut_edges[1])[0][0]\n",
    "        connections.append((idx1, idx2))\n",
    "connections = np.array(connections)"
   ]
  },
  {
   "cell_type": "code",
   "execution_count": 22,
   "id": "ecdeef99",
   "metadata": {},
   "outputs": [
    {
     "data": {
      "text/plain": [
       "4"
      ]
     },
     "execution_count": 22,
     "metadata": {},
     "output_type": "execute_result"
    }
   ],
   "source": [
    "def find_polyline(connections_dict, start):\n",
    "    seen = {start}\n",
    "\n",
    "    to_do = [*connections_dict[start]]\n",
    "    path = [start]\n",
    "\n",
    "    while to_do:\n",
    "        curr = to_do.pop()\n",
    "        path.append(curr)\n",
    "        left, right = connections_dict[curr]\n",
    "\n",
    "        if left not in seen:\n",
    "            seen.add(left)\n",
    "            to_do.append(left)\n",
    "            continue\n",
    "\n",
    "        if right not in seen:\n",
    "            seen.add(right)\n",
    "            to_do.append(right)\n",
    "            continue\n",
    "\n",
    "    return path\n",
    "\n",
    "connections_dict = defaultdict(list)\n",
    "for i, j in connections:\n",
    "    i, j = int(i), int(j)\n",
    "    connections_dict[i].append(j)\n",
    "    connections_dict[j].append(i)\n",
    "\n",
    "seen = set()\n",
    "unseen = set(connections_dict.keys())\n",
    "\n",
    "paths = []\n",
    "\n",
    "while unseen:\n",
    "    start = unseen.pop()\n",
    "    paths.append(find_polyline(connections_dict, start))\n",
    "    seen.union(set(paths[-1]))\n",
    "    unseen -= set(paths[-1])\n",
    "\n",
    "len(paths) "
   ]
  },
  {
   "cell_type": "code",
   "execution_count": 23,
   "id": "2198a732",
   "metadata": {},
   "outputs": [],
   "source": [
    "with open(\"test_cuts.obj\", \"w\") as f:\n",
    "    for v1, v2, v3 in intersection_points:\n",
    "        f.write(f\"v {v1} {v2} {v3}\\n\")\n",
    "\n",
    "    # Add edges between connected faces (as lines)\n",
    "    # Add polylines from paths as lines in the obj file\n",
    "    for p in paths:\n",
    "        for i, vert in enumerate(p):\n",
    "            f.write(f\"l {p[i - 1] + 1} {vert + 1}\\n\")"
   ]
  },
  {
   "cell_type": "code",
   "execution_count": 24,
   "id": "b4719c01",
   "metadata": {},
   "outputs": [
    {
     "name": "stdout",
     "output_type": "stream",
     "text": [
      "1.0016207488099733\n",
      "0.22322107705881714\n",
      "0.028186110751917428\n",
      "0.15945071238592476\n",
      "6.283185307179586\n",
      "\n",
      "[231, 94, 13, 61]\n",
      "399\n"
     ]
    }
   ],
   "source": [
    "def calculate_polyline_length(path, verts):\n",
    "    path = np.array(path)\n",
    "\n",
    "    return np.sum(np.linalg.norm(verts[path] - verts[np.roll(path, 1)], axis=1))\n",
    "\n",
    "lengths = []\n",
    "for line in paths:\n",
    "    length = calculate_polyline_length(line, intersection_points)\n",
    "    print(length)\n",
    "    lengths.append(length)\n",
    "\n",
    "print(np.pi*2)\n",
    "print()\n",
    "print([len(p) for p in paths])\n",
    "print(sum([len(p) for p in paths]))\n"
   ]
  },
  {
   "cell_type": "markdown",
   "id": "74458f54",
   "metadata": {},
   "source": [
    "# Trying a different approach"
   ]
  },
  {
   "cell_type": "code",
   "execution_count": 25,
   "id": "daae6a50",
   "metadata": {},
   "outputs": [],
   "source": [
    "#| export_section\n",
    "import torch\n",
    "#| end_section\n",
    "\n",
    "verts = torch.tensor(verts_unique)\n",
    "face2vert = torch.tensor(face2vert_unique)\n",
    "\n",
    "edge2vert, face2edge, edge2face = torch.tensor(edge2vert), torch.tensor(face2edge), torch.tensor(edge2face)\n"
   ]
  },
  {
   "cell_type": "code",
   "execution_count": 26,
   "id": "a4e23e8d",
   "metadata": {},
   "outputs": [],
   "source": [
    "plane_normal = torch.tensor([[0, 0, 1]], dtype=verts.dtype)\n",
    "plane_point = torch.tensor([[0, 0, 0]], dtype=verts.dtype)\n",
    "plane_direction = torch.tensor([[1, 0, 0]], dtype=verts.dtype)\n",
    "\n",
    "\n",
    "plane_side = torch.einsum(\"ij, ij -> i\", verts - plane_point, plane_normal)\n",
    "\n",
    "# If a vert sits exactly on the plane then make it\n",
    "plane_side[plane_side == 0] = 1e-8\n",
    "plane_side =  plane_side < 0\n",
    "\n"
   ]
  },
  {
   "cell_type": "code",
   "execution_count": 27,
   "id": "05d7bee4",
   "metadata": {},
   "outputs": [
    {
     "data": {
      "text/plain": [
       "(tensor([-0.2681, -0.2771,  0.0000]), tensor(0.4139))"
      ]
     },
     "execution_count": 27,
     "metadata": {},
     "output_type": "execute_result"
    }
   ],
   "source": [
    "a, b = (torch.rand((2, 3), dtype=torch.float32) - 0.5) * 2\n",
    "n = torch.tensor((0, 0, 1), dtype=torch.float32)\n",
    "p = torch.tensor((0, 0, 0), dtype=torch.float32)\n",
    "\n",
    "\n",
    "#| export\n",
    "def plane_edge_intersection(a, b, n, p):\n",
    "    if len(a.shape) == 2:\n",
    "        t = torch.einsum(\"ij, ij -> i\", p - a, n) / torch.einsum(\"ij, ij -> i\", b - a, n)\n",
    "        t = t.unsqueeze(-1)\n",
    "    else:\n",
    "        t = torch.dot(p - a, n) / torch.dot(b - a, n)\n",
    "    return torch.nan_to_num(a + t * (b - a), nan=float('inf')), t\n",
    "\n",
    "\n",
    "plane_edge_intersection(a, b, n, p)"
   ]
  },
  {
   "cell_type": "code",
   "execution_count": 28,
   "id": "053b1f28",
   "metadata": {},
   "outputs": [
    {
     "data": {
      "text/plain": [
       "tensor(True)"
      ]
     },
     "execution_count": 28,
     "metadata": {},
     "output_type": "execute_result"
    }
   ],
   "source": [
    "edge_verts = verts[edge2vert]\n",
    "intersections, t = plane_edge_intersection(edge_verts[:,0], edge_verts[:, 1], plane_normal, plane_point)\n",
    "t_mask = torch.logical_and(0 <= t, t < 1)\n",
    "\n",
    "torch.all(torch.isclose(intersections[:, -1], torch.zeros_like(intersections[:, -1])))"
   ]
  },
  {
   "cell_type": "code",
   "execution_count": 29,
   "id": "18c8db4a",
   "metadata": {},
   "outputs": [
    {
     "data": {
      "text/plain": [
       "tensor(0., dtype=torch.float64)"
      ]
     },
     "execution_count": 29,
     "metadata": {},
     "output_type": "execute_result"
    }
   ],
   "source": [
    "face_intersections = intersections[face2edge]\n",
    "face_distance_lines = torch.concat([\n",
    "    (face_intersections[:,0] - face_intersections[:, 1])[:, None],\n",
    "    (face_intersections[:,2] - face_intersections[:, 1])[:, None],\n",
    "    (face_intersections[:,0] - face_intersections[:, 2])[:, None]\n",
    "], dim=1)\n",
    "\n",
    "face_distances = torch.linalg.norm(face_distance_lines, dim=-1, keepdim=True)\n",
    "\n",
    "t_mask_faces_raw = t_mask[face2edge]\n",
    "t_mask_faces = torch.concat([\n",
    "    (t_mask_faces_raw[:, 0] + t_mask_faces_raw[:, 1] == 2)[:, None],\n",
    "    (t_mask_faces_raw[:, 2] + t_mask_faces_raw[:, 1] == 2)[:, None],\n",
    "    (t_mask_faces_raw[:, 0] + t_mask_faces_raw[:, 2] == 2)[:, None],\n",
    "], dim=1)\n",
    "\n",
    "torch.nansum(face_distances*t_mask_faces)"
   ]
  },
  {
   "cell_type": "code",
   "execution_count": 30,
   "id": "eb5280b6",
   "metadata": {},
   "outputs": [],
   "source": [
    "# with open(\"torch_test_cuts.obj\", \"w\") as f:\n",
    "#     for face_ints, t_s in zip(face_intersections, t_mask_faces_raw):\n",
    "#         for (v1, v2, v3), t in zip(face_ints, t_s):\n",
    "#             if t:\n",
    "#                 f.write(f\"v {v1} {v2} {v3}\\n\")        \n",
    "\n",
    "# torch.sum(t_mask_faces)"
   ]
  },
  {
   "cell_type": "code",
   "execution_count": null,
   "id": "6b1bd65b",
   "metadata": {},
   "outputs": [
    {
     "data": {
      "text/plain": [
       "tensor(-4.8757, dtype=torch.float64)"
      ]
     },
     "execution_count": 31,
     "metadata": {},
     "output_type": "execute_result"
    }
   ],
   "source": [
    "#| export\n",
    "def measure_planar_circumference(verts, edge2vert, face2edge, plane_point, plane_normal):\n",
    "    if isinstance(plane_point, int):\n",
    "        plane_point = verts[plane_point]\n",
    "\n",
    "    if isinstance(plane_normal, (tuple, list)):\n",
    "        plane_normal = verts[plane_normal[0]] - verts[plane_normal[1]]\n",
    "        plane_normal /= torch.linalg.norm(plane_normal)\n",
    "\n",
    "    edge_verts = verts[edge2vert]\n",
    "    intersections, t = plane_edge_intersection(\n",
    "        edge_verts[:, 0], edge_verts[:, 1], plane_normal, plane_point\n",
    "    )\n",
    "\n",
    "    t_mask = (0 < t) * (t < 1)\n",
    "\n",
    "    face_intersections = intersections[face2edge]\n",
    "    face_distances = torch.linalg.norm(\n",
    "        torch.concat(\n",
    "            [\n",
    "                (face_intersections[:, 0] - face_intersections[:, 1])[:, None],\n",
    "                (face_intersections[:, 2] - face_intersections[:, 1])[:, None],\n",
    "                (face_intersections[:, 0] - face_intersections[:, 2])[:, None],\n",
    "            ],\n",
    "            dim=1,\n",
    "        ),\n",
    "        dim=-1,\n",
    "        keepdim=True,\n",
    "    )\n",
    "\n",
    "    t_mask_faces = t_mask[face2edge]\n",
    "    t_mask_faces = torch.concat(\n",
    "        [\n",
    "            (t_mask_faces[:, 0] * t_mask_faces[:, 1])[:, None],\n",
    "            (t_mask_faces[:, 2] * t_mask_faces[:, 1])[:, None],\n",
    "            (t_mask_faces[:, 0] * t_mask_faces[:, 2])[:, None],\n",
    "        ],\n",
    "        dim=1,\n",
    "    )\n",
    "\n",
    "    return torch.nansum(face_distances * t_mask_faces)\n",
    "\n",
    "measure_planar_circumference(verts, edge2vert, face2edge, plane_point, plane_normal) - torch.pi*2"
   ]
  },
  {
   "cell_type": "markdown",
   "id": "ea974019",
   "metadata": {},
   "source": [
    "### Other linear measurements\n",
    "\n",
    "So basically the circumferential measurements should be the hardest but probably worth doing the widths in here as well. "
   ]
  },
  {
   "cell_type": "code",
   "execution_count": null,
   "id": "85394865",
   "metadata": {},
   "outputs": [
    {
     "data": {
      "text/plain": [
       "tensor(0.3169, dtype=torch.float64)"
      ]
     },
     "execution_count": 32,
     "metadata": {},
     "output_type": "execute_result"
    }
   ],
   "source": [
    "#| export\n",
    "def measure_width(verts, edge2vert, plane_point, plane_normal, plane_direction):\n",
    "    if isinstance(plane_point, int):\n",
    "        plane_point = verts[plane_point]\n",
    "\n",
    "    if isinstance(plane_normal, (tuple, list)):\n",
    "        plane_normal = verts[plane_normal[0]] - verts[plane_normal[1]]\n",
    "        plane_normal /= torch.linalg.norm(plane_normal)\n",
    "\n",
    "    if isinstance(plane_direction, (tuple, list)):\n",
    "        plane_direction = verts[plane_direction[0]] - verts[plane_direction[1]]\n",
    "        plane_direction /= torch.linalg.norm(plane_direction)\n",
    "\n",
    "    edge_verts = verts[edge2vert]\n",
    "    intersections, t = plane_edge_intersection(\n",
    "        edge_verts[:, 0], edge_verts[:, 1], plane_normal, plane_point\n",
    "    )\n",
    "\n",
    "    t_mask = (0 < t) * (t < 1)\n",
    "\n",
    "    valid_intersections = intersections[t_mask.squeeze()]\n",
    "\n",
    "    values = torch.einsum(\"ij, ij -> i\", valid_intersections, plane_direction)\n",
    "\n",
    "    return torch.max(values) - torch.min(values)\n",
    "\n",
    "measure_width(verts, edge2vert, plane_point, plane_normal, plane_direction)"
   ]
  },
  {
   "cell_type": "code",
   "execution_count": null,
   "id": "07d6b7cc",
   "metadata": {},
   "outputs": [],
   "source": [
    "#| export\n",
    "def measure_length(verts, v1, v2, direction):\n",
    "    if isinstance(direction, (tuple, list)):\n",
    "        direction = verts[direction[0]] - verts[direction[1]]\n",
    "        direction /= torch.linalg.norm(direction)\n",
    "\n",
    "    return torch.dot(verts[v1] - verts[v2], direction)"
   ]
  },
  {
   "cell_type": "markdown",
   "id": "cb2b198f",
   "metadata": {},
   "source": [
    "## Removing Bones from file\n",
    "So we dont really want to include the size of the bones in our measurements so we're going to have to figure out how to exclude them from out model before it all goes terribly horribly wrong. So lets try isolate the bone verts so we can mask them out."
   ]
  },
  {
   "cell_type": "code",
   "execution_count": 34,
   "id": "e87762fb",
   "metadata": {},
   "outputs": [],
   "source": [
    "verts_bones, face2vert_bones = igl.read_triangle_mesh(\"limb_00000.stl\")\n",
    "verts_boneless, face2vert_boneless = igl.read_triangle_mesh(\"limb_00000_boneless.stl\")\n",
    "\n",
    "verts_bones, verts_boneless = np.round(verts_bones, decimals=8), np.round(verts_boneless, decimals=8)\n",
    "\n",
    "_, boneless_idxs, inverse = np.unique(verts_boneless, return_index=True, return_inverse=True, axis=0)\n",
    "\n",
    "_, bones_idxs = np.unique(verts_bones, return_index=True, axis=0)\n",
    "\n",
    "verts_bones[bones_idxs]\n",
    "\n",
    "boneless_set = {tuple(x):i for i, x in enumerate(verts_boneless[boneless_idxs])}\n",
    "mapping = []\n",
    "face_mapping = {}\n",
    "for idx in bones_idxs:\n",
    "    if tuple(verts_bones[idx]) in boneless_set:\n",
    "        face_mapping[tuple(verts_bones[idx])] = len(mapping)\n",
    "        mapping.append(idx)\n",
    "\n",
    "mapping = np.array(mapping)\n",
    "face2vert_boneless_mapped = np.vectorize(lambda x: face_mapping[tuple(verts_boneless[x])])(face2vert_boneless)\n",
    "\n",
    "mapping = torch.tensor(mapping)\n",
    "boneless_face2vert = torch.tensor(face2vert_boneless_mapped)\n",
    "\n",
    "torch.save(mapping, \"data_components/vert_mapping.pt\")\n",
    "torch.save(boneless_face2vert, \"data_components/face2vert.pt\")"
   ]
  },
  {
   "cell_type": "code",
   "execution_count": 35,
   "id": "90775ab9",
   "metadata": {},
   "outputs": [],
   "source": [
    "#| export\n",
    "def remove_bones(verts, path=\"/\"):\n",
    "    mapping = torch.load(path + \"vert_mapping.pt\")\n",
    "    face2vert = torch.load(path + \"face2vert.pt\")\n",
    "\n",
    "    return verts[mapping], face2vert"
   ]
  },
  {
   "cell_type": "code",
   "execution_count": 36,
   "id": "12a3959e",
   "metadata": {},
   "outputs": [],
   "source": [
    "import nb_exporter\n",
    "nb_exporter.export_notebook(\"measure_limbs.ipynb\")"
   ]
  }
 ],
 "metadata": {
  "kernelspec": {
   "display_name": "OpenLimb",
   "language": "python",
   "name": "python3"
  },
  "language_info": {
   "codemirror_mode": {
    "name": "ipython",
    "version": 3
   },
   "file_extension": ".py",
   "mimetype": "text/x-python",
   "name": "python",
   "nbconvert_exporter": "python",
   "pygments_lexer": "ipython3",
   "version": "3.12.9"
  }
 },
 "nbformat": 4,
 "nbformat_minor": 5
}
